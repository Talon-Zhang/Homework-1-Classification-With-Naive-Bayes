{
 "cells": [
  {
   "cell_type": "markdown",
   "metadata": {},
   "source": [
    "## I) Reading the data"
   ]
  },
  {
   "cell_type": "code",
   "execution_count": 51,
   "metadata": {},
   "outputs": [
    {
     "name": "stdout",
     "output_type": "stream",
     "text": [
      "i: 0\n",
      "i: 1000\n",
      "i: 2000\n",
      "i: 3000\n",
      "i: 4000\n",
      "i: 5000\n",
      "i: 6000\n",
      "i: 7000\n",
      "i: 8000\n",
      "i: 9000\n",
      "i: 10000\n",
      "i: 11000\n",
      "i: 12000\n",
      "i: 13000\n",
      "i: 14000\n",
      "i: 15000\n",
      "i: 16000\n",
      "i: 17000\n",
      "i: 18000\n",
      "i: 19000\n",
      "i: 20000\n",
      "i: 21000\n",
      "i: 22000\n",
      "i: 23000\n",
      "i: 24000\n",
      "i: 25000\n",
      "i: 26000\n",
      "i: 27000\n",
      "i: 28000\n",
      "i: 29000\n",
      "i: 30000\n",
      "i: 31000\n",
      "i: 32000\n",
      "i: 33000\n",
      "i: 34000\n",
      "i: 35000\n",
      "i: 36000\n",
      "i: 37000\n",
      "i: 38000\n",
      "i: 39000\n",
      "i: 40000\n",
      "i: 41000\n",
      "i: 42000\n",
      "i: 43000\n",
      "i: 44000\n",
      "i: 45000\n",
      "i: 46000\n",
      "i: 47000\n",
      "i: 48000\n",
      "i: 49000\n",
      "i: 50000\n",
      "i: 51000\n",
      "i: 52000\n",
      "i: 53000\n",
      "i: 54000\n",
      "i: 55000\n",
      "i: 56000\n",
      "i: 57000\n",
      "i: 58000\n",
      "i: 59000\n",
      "i: 0\n",
      "i: 1000\n",
      "i: 2000\n",
      "i: 3000\n",
      "i: 4000\n",
      "i: 5000\n",
      "i: 6000\n",
      "i: 7000\n",
      "i: 8000\n",
      "i: 9000\n"
     ]
    }
   ],
   "source": [
    "# Author : Martin Thoma \n",
    "# URL : https://martin-thoma.com/classify-mnist-with-pybrain/\n",
    "\n",
    "from struct import unpack\n",
    "import gzip\n",
    "from numpy import zeros, uint8, float32\n",
    "\n",
    "def get_labeled_data(imagefile, labelfile):\n",
    "    \"\"\"Read input-vector (image) and target class (label, 0-9) and return\n",
    "       it as list of tuples.\n",
    "    \"\"\"\n",
    "    # Open the images with gzip in read binary mode\n",
    "    images = gzip.open(imagefile, 'rb')\n",
    "    labels = gzip.open(labelfile, 'rb')\n",
    "\n",
    "    # Read the binary data\n",
    "\n",
    "    # We have to get big endian unsigned int. So we need '>I'\n",
    "\n",
    "    # Get metadata for images\n",
    "    images.read(4)  # skip the magic_number\n",
    "    number_of_images = images.read(4)\n",
    "    number_of_images = unpack('>I', number_of_images)[0]\n",
    "    rows = images.read(4)\n",
    "    rows = unpack('>I', rows)[0]\n",
    "    cols = images.read(4)\n",
    "    cols = unpack('>I', cols)[0]\n",
    "\n",
    "    # Get metadata for labels\n",
    "    labels.read(4)  # skip the magic_number\n",
    "    N = labels.read(4)\n",
    "    N = unpack('>I', N)[0]\n",
    "\n",
    "    if number_of_images != N:\n",
    "        raise Exception('number of labels did not match the number of images')\n",
    "\n",
    "    # Get the data\n",
    "    x = zeros((N, rows, cols), dtype=float32)  # Initialize numpy array\n",
    "    y = zeros((N, 1), dtype=uint8)  # Initialize numpy array\n",
    "    for i in range(N):\n",
    "        if i % 1000 == 0:\n",
    "            print(\"i: %i\" % i)\n",
    "        for row in range(rows):\n",
    "            for col in range(cols):\n",
    "                tmp_pixel = images.read(1)  # Just a single byte\n",
    "                tmp_pixel = unpack('>B', tmp_pixel)[0]\n",
    "                x[i][row][col] = tmp_pixel\n",
    "        tmp_label = labels.read(1)\n",
    "        y[i] = unpack('>B', tmp_label)[0]\n",
    "    return (x, y)\n",
    "\n",
    "X_train, y_train = get_labeled_data(\"train-images-idx3-ubyte.gz\", \"train-labels-idx1-ubyte.gz\")\n",
    "X_test, y_test = get_labeled_data(\"t10k-images-idx3-ubyte.gz\", \"t10k-labels-idx1-ubyte.gz\")\n"
   ]
  },
  {
   "cell_type": "markdown",
   "metadata": {},
   "source": [
    "## Mean images"
   ]
  },
  {
   "cell_type": "code",
   "execution_count": 52,
   "metadata": {},
   "outputs": [
    {
     "name": "stdout",
     "output_type": "stream",
     "text": [
      "calculaing...\n",
      "Label: 0\n"
     ]
    },
    {
     "data": {
      "image/png": "[encoded data removed]",
      "text/plain": [
       "<Figure size 432x288 with 1 Axes>"
      ]
     },
     "metadata": {
      "needs_background": "light"
     },
     "output_type": "display_data"
    },
    {
     "name": "stdout",
     "output_type": "stream",
     "text": [
      "Label: 1\n"
     ]
    },
    {
     "data": {
      "image/png": "[encoded data removed]",
      "text/plain": [
       "<Figure size 432x288 with 1 Axes>"
      ]
     },
     "metadata": {
      "needs_background": "light"
     },
     "output_type": "display_data"
    },
    {
     "name": "stdout",
     "output_type": "stream",
     "text": [
      "Label: 2\n"
     ]
    },
    {
     "data": {
      "image/png": "[encoded data removed]",
      "text/plain": [
       "<Figure size 432x288 with 1 Axes>"
      ]
     },
     "metadata": {
      "needs_background": "light"
     },
     "output_type": "display_data"
    },
    {
     "name": "stdout",
     "output_type": "stream",
     "text": [
      "Label: 3\n"
     ]
    },
    {
     "data": {
      "image/png": "[encoded data removed]",
      "text/plain": [
       "<Figure size 432x288 with 1 Axes>"
      ]
     },
     "metadata": {
      "needs_background": "light"
     },
     "output_type": "display_data"
    },
    {
     "name": "stdout",
     "output_type": "stream",
     "text": [
      "Label: 4\n"
     ]
    },
    {
     "data": {
      "image/png": "[encoded data removed]",
      "text/plain": [
       "<Figure size 432x288 with 1 Axes>"
      ]
     },
     "metadata": {
      "needs_background": "light"
     },
     "output_type": "display_data"
    },
    {
     "name": "stdout",
     "output_type": "stream",
     "text": [
      "Label: 5\n"
     ]
    },
    {
     "data": {
      "image/png": "[encoded data removed]",
      "text/plain": [
       "<Figure size 432x288 with 1 Axes>"
      ]
     },
     "metadata": {
      "needs_background": "light"
     },
     "output_type": "display_data"
    },
    {
     "name": "stdout",
     "output_type": "stream",
     "text": [
      "Label: 6\n"
     ]
    },
    {
     "data": {
      "image/png": "[encoded data removed]",
      "text/plain": [
       "<Figure size 432x288 with 1 Axes>"
      ]
     },
     "metadata": {
      "needs_background": "light"
     },
     "output_type": "display_data"
    },
    {
     "name": "stdout",
     "output_type": "stream",
     "text": [
      "Label: 7\n"
     ]
    },
    {
     "data": {
      "image/png": "[encoded data removed]",
      "text/plain": [
       "<Figure size 432x288 with 1 Axes>"
      ]
     },
     "metadata": {
      "needs_background": "light"
     },
     "output_type": "display_data"
    },
    {
     "name": "stdout",
     "output_type": "stream",
     "text": [
      "Label: 8\n"
     ]
    },
    {
     "data": {
      "image/png": "[encoded data removed]",
      "text/plain": [
       "<Figure size 432x288 with 1 Axes>"
      ]
     },
     "metadata": {
      "needs_background": "light"
     },
     "output_type": "display_data"
    },
    {
     "name": "stdout",
     "output_type": "stream",
     "text": [
      "Label: 9\n"
     ]
    },
    {
     "data": {
      "image/png": "[encoded data removed]",
      "text/plain": [
       "<Figure size 432x288 with 1 Axes>"
      ]
     },
     "metadata": {
      "needs_background": "light"
     },
     "output_type": "display_data"
    }
   ],
   "source": [
    "from matplotlib import pylab\n",
    "from pylab import imshow, show, cm\n",
    "from scipy.stats import norm\n",
    "import cv2\n",
    "\n",
    "def view_image(image, label=\"\"):\n",
    "    \"\"\"View a single image.\"\"\"\n",
    "    print(\"Label: %s\" % label)\n",
    "    imshow(image, cmap=cm.gray)\n",
    "    show()\n",
    "\n",
    "def meanImage(train_set, train_labels):\n",
    "    # return predicted labels of test set\n",
    "    \n",
    "    print(\"calculaing...\")\n",
    "    size = len(train_set[0])\n",
    "    # index corresponding to each label \n",
    "    dict_train_index = {}\n",
    "    # probability corresponding to each label\n",
    "    probability = {}\n",
    "    for i in range(0, 10):\n",
    "        dict_train_index[i] = list(np.where(np.asarray(train_labels) == i)[0])\n",
    "        probability[i] = len(dict_train_index[i])/len(train_labels)\n",
    "        \n",
    "#     dataset corresponding to each label\n",
    "    dict_train_set = {}\n",
    "    for i in range(0, 10):\n",
    "        dict_train_set[i] = np.asarray([train_set[j] for j in dict_train_index[i]])  \n",
    "    \n",
    "#     mean and var for images' features\n",
    "    mean_list = np.empty([10,size,size])\n",
    "    var_list = np.empty([10,size,size])\n",
    "    for i in range(0, 10):  \n",
    "        for j in range(0, size):\n",
    "            for k in range(0, size):\n",
    "                feature_list = []\n",
    "                for m in range(0, len(dict_train_set[i])):\n",
    "                    feature_list.append(dict_train_set[i][m][j][k])\n",
    "                feature_mean = np.mean(feature_list)\n",
    "                mean_list[i][j][k] = feature_mean\n",
    "                feature_var = np.var(feature_list)\n",
    "                var_list[i][j][k] = feature_var\n",
    "                \n",
    "#    view mean image\n",
    "    for i in range(0, 10):\n",
    "        view_image(mean_list[i], i)\n",
    "        \n",
    "meanImage(X_train, y_train)"
   ]
  },
  {
   "cell_type": "markdown",
   "metadata": {},
   "source": [
    "## II) Preprocessing the data"
   ]
  },
  {
   "cell_type": "code",
   "execution_count": 53,
   "metadata": {},
   "outputs": [
    {
     "name": "stdout",
     "output_type": "stream",
     "text": [
      "Resizing...\n",
      "Thresholding...\n",
      "Flattenning...\n",
      "Preprocessing finished\n"
     ]
    }
   ],
   "source": [
    "import cv2\n",
    "import numpy as np\n",
    "\n",
    "def view_image(image, label=\"\"):\n",
    "    \"\"\"View a single image.\"\"\"\n",
    "    print(\"Label: %s\" % label)\n",
    "    imshow(image, cmap=cm.gray)\n",
    "    show()\n",
    "\n",
    "def resize(images):        \n",
    "    images_resized = []\n",
    "    for image in images:\n",
    "        size = len(image)\n",
    "    \n",
    "        x_min = 0\n",
    "        f_break = False\n",
    "        for x in range(0, size):\n",
    "            for y in range(0, size):\n",
    "                if image[y][x]!=0.0:\n",
    "                    x_min = x   \n",
    "                    f_break = True\n",
    "                    break\n",
    "            if f_break:\n",
    "                break\n",
    "\n",
    "        x_max = 28\n",
    "        f_break = False\n",
    "        for x in range(size-1,-1,-1):\n",
    "            for y in range(0, size):\n",
    "                if image[y][x]!=0.0:\n",
    "                    x_max = x   \n",
    "                    f_break = True\n",
    "                    break\n",
    "            if f_break:\n",
    "                break\n",
    "\n",
    "        y_min = 0\n",
    "        f_break = False\n",
    "        for y in range(0, size):\n",
    "            for x in range(0, size):\n",
    "                if image[y][x]!=0.0:\n",
    "                    y_min = y    \n",
    "                    f_break = True\n",
    "                    break\n",
    "            if f_break:\n",
    "                break\n",
    "\n",
    "        y_max = 28\n",
    "        f_break = False\n",
    "        for y in range(size-1,-1,-1):\n",
    "            for x in range(0, size):\n",
    "                if image[y][x]!=0.0:\n",
    "                    y_max = y    \n",
    "                    f_break = True\n",
    "                    break\n",
    "            if f_break:\n",
    "                break\n",
    "                \n",
    "        temp_image = image[y_min: y_max+1]\n",
    "        new_image =  []  \n",
    "        for i in range(0, len(temp_image)):\n",
    "             new_image.append(temp_image[i][x_min: x_max])\n",
    "        final_image = cv2.resize(np.asarray(new_image),(20,20))\n",
    "        images_resized.append(final_image)\n",
    "        #view_image(final_image, label=\"\")\n",
    "    return images_resized\n",
    "\n",
    "# Threshold the data\n",
    "def thresholding(X):\n",
    "    for x in X:\n",
    "        for i in range(len(x)):\n",
    "            for j in range(len(x[i])):\n",
    "                if x[i, j] > 127:\n",
    "                    x[i, j] = 1.\n",
    "                else:\n",
    "                     x[i, j] = 0\n",
    "\n",
    "# Flatten the 28 x 28 matrix corresponding to an image to a 1 x 784 vector \n",
    "def flatten(X):\n",
    "    tmp = []\n",
    "    for x in range(len(X)):\n",
    "        tmp.append([X[x][i, j] for i in range(X[x].shape[0]) for j in range(X[x].shape[1])])\n",
    "    return tmp    \n",
    "\n",
    "#print X_train[0]\n",
    "\n",
    "# Resized versions of the images\n",
    "print \"Resizing...\"\n",
    "X_train_resized = resize(X_train)\n",
    "X_test_resized = resize(X_test)\n",
    "\n",
    "# Threshold the untouched and resized images\n",
    "print \"Thresholding...\"\n",
    "thresholding(X_train)\n",
    "thresholding(X_test)\n",
    "thresholding(X_train_resized)\n",
    "thresholding(X_test_resized)\n",
    "\n",
    "# Flatten the images into 1 x 784 vectors\n",
    "print \"Flattenning...\"\n",
    "X_train_preprocessed = flatten(X_train)\n",
    "X_test_preprocessed = flatten(X_test)\n",
    "X_train_preprocessed_resized = flatten(X_train_resized)\n",
    "X_test_preprocessed_resized = flatten(X_test_resized)\n",
    "print \"Preprocessing finished\"\n",
    "#print X_train_preprocessed[0]"
   ]
  },
  {
   "cell_type": "markdown",
   "metadata": {},
   "source": [
    "## Prediction with Normal Model "
   ]
  },
  {
   "cell_type": "code",
   "execution_count": 58,
   "metadata": {},
   "outputs": [
    {
     "name": "stdout",
     "output_type": "stream",
     "text": [
      "Untouched images normal distribution accuracy test set 0.7806\n",
      "Untouched images normal distribution accuracy train set 0.773983333333\n",
      "Resized images normal distribution accuracy test set 0.8199\n",
      "Resized images normal distribution accuracy train set 0.80905\n"
     ]
    }
   ],
   "source": [
    "import math\n",
    "import pandas as pd\n",
    "\n",
    "# Seperate data in two data frames one for each class (0 to 9)\n",
    "def seperate_by_class(X, y):\n",
    "    classes = []\n",
    "    for i in range(10):\n",
    "        classes.append(X[y == i])\n",
    "    return classes\n",
    "\n",
    "# Compute mean of elements\n",
    "def mean(elements):\n",
    "    return float(sum(elements)) / float(len(elements))\n",
    "\n",
    "# Standard deviation mean of elements\n",
    "def standard_deviation(elements):\n",
    "    m = mean(elements)\n",
    "    var = sum([math.pow(e - m, 2) for e in elements]) / float(len(elements) - 1)\n",
    "    return math.sqrt(var)\n",
    "\n",
    "# Compute Mean and Std_Dev of each attribute for each class\n",
    "def statistics_normal(X, y):\n",
    "    classes_statistics = []\n",
    "    classes = seperate_by_class(X, y)\n",
    "    for c in classes:\n",
    "        attribute_stats = [(mean(c[column]), standard_deviation(c[column])) for column in c]\n",
    "        classes_statistics.append(attribute_stats)\n",
    "    return classes_statistics\n",
    "\n",
    "def normal(mean, std_dev, x):\n",
    "    n = math.exp(-0.5 * math.pow((x - mean) / std_dev, 2)) / (math.sqrt(2 * math.pi) * std_dev) \n",
    "    if n == 0:\n",
    "        return 1e-15\n",
    "    else:\n",
    "        return n     \n",
    "\n",
    "def predict_normal(x, classes_statistics, p_y_i):\n",
    "    p_classes = [math.log(p_y_i[i]) for i in range(10)]\n",
    "    for j in range(10): # iterate on the 10 possible labels\n",
    "        for i in range(len(x)): # iterate on the features of the vector\n",
    "            mean = classes_statistics[j][i][0]\n",
    "            std_dev = classes_statistics[j][i][1]\n",
    "            if std_dev != 0: # must not have null standard deviation nor mean\n",
    "                p_classes[j] += math.log(normal(mean, std_dev, x[i]))\n",
    "    return p_classes.index(max(p_classes))\n",
    "\n",
    "def compute_accuracy_normal(X_test, y_test, y_train, classes_statistics):\n",
    "    accuracy = 0\n",
    "    p_y_i = [float((y_train == i).sum()) / float(len(y_train)) for i in range(10)]\n",
    "    for i, x in X_test.iterrows():\n",
    "        if predict_normal(x, classes_statistics, p_y_i) == y_test[i]:\n",
    "            accuracy += 1\n",
    "    accuracy = accuracy / float(len(y_test))\n",
    "    return accuracy\n",
    "\n",
    "# Untouched images\n",
    "X_train_preprocessed = pd.DataFrame(X_train_preprocessed)\n",
    "X_test_preprocessed = pd.DataFrame(X_test_preprocessed)\n",
    "classes_statistics_normal = statistics_normal(X_train_preprocessed, y_train)\n",
    "normal_accuracy_test = compute_accuracy_normal(X_test_preprocessed, y_test, y_train, classes_statistics_normal)\n",
    "normal_accuracy_train = compute_accuracy_normal(X_train_preprocessed, y_train, y_train, classes_statistics_normal)\n",
    "print \"Untouched images normal distribution accuracy test set \" + str(normal_accuracy_test)\n",
    "print \"Untouched images normal distribution accuracy train set \" + str(normal_accuracy_train)\n",
    "\n",
    "# Resized images\n",
    "X_train_preprocessed_resized = pd.DataFrame(X_train_preprocessed_resized)\n",
    "X_test_preprocessed_resized = pd.DataFrame(X_test_preprocessed_resized)\n",
    "classes_statistics_normal_resized = statistics_normal(X_train_preprocessed_resized, y_train)\n",
    "normal_accuracy_resized_test = compute_accuracy_normal(X_test_preprocessed_resized, y_test, y_train, classes_statistics_normal_resized)\n",
    "normal_accuracy_resized_train = compute_accuracy_normal(X_train_preprocessed_resized, y_train, y_train, classes_statistics_normal_resized)\n",
    "print \"Resized images normal distribution accuracy test set \" + str(normal_accuracy_resized_test)\n",
    "print \"Resized images normal distribution accuracy train set \" + str(normal_accuracy_resized_train)\n"
   ]
  },
  {
   "cell_type": "markdown",
   "metadata": {},
   "source": [
    "## Prediction with Bernouilli distribution"
   ]
  },
  {
   "cell_type": "code",
   "execution_count": 59,
   "metadata": {},
   "outputs": [
    {
     "name": "stdout",
     "output_type": "stream",
     "text": [
      "Untouched bernouilli accuracy test set 0.8439\n",
      "Untouched bernouilli accuracy train set 0.838283333333\n",
      "Resized bernouilli accuracy test set 0.8345\n",
      "Resized bernouilli accuracy train set 0.821533333333\n"
     ]
    }
   ],
   "source": [
    "# Seperate data in two data frames one for each class (0 to 9)\n",
    "def seperate_by_class(X, y):\n",
    "    classes = []\n",
    "    for i in range(10):\n",
    "        classes.append(X[y == i])\n",
    "    return classes\n",
    "\n",
    "# Compute probability of value 0 or 255 for each attribute for each class\n",
    "def statistics_bernouilli(X, y):\n",
    "    classes_statistics = []\n",
    "    classes = seperate_by_class(X, y)\n",
    "    for c in classes:\n",
    "        attribute_stats = []\n",
    "        for column in c:\n",
    "            p_0 = np.count_nonzero(c[column] == 0) / float(len(c[column]))\n",
    "            attribute_stats.append((p_0, 1-p_0))\n",
    "        classes_statistics.append(attribute_stats)\n",
    "    return classes_statistics\n",
    "\n",
    "def bernouilli(p):\n",
    "    if p == 0:\n",
    "        return 1e-15\n",
    "    else:\n",
    "        return p\n",
    "\n",
    "def predict_bernouilli(x, classes_statistics, p_y_i):\n",
    "    p_classes = [math.log(p_y_i[i]) for i in range(10)]\n",
    "    for c in range(10): # iterate on the 10 possible labels\n",
    "        for feature in range(len(x)): # iterate on the features of the vector\n",
    "            p_classes[c] += math.log(bernouilli(classes_statistics[c][feature][int(x[feature])]))\n",
    "    return p_classes.index(max(p_classes))\n",
    "\n",
    "def compute_accuracy_bernouilli(X_test, y_test, y_train, classes_statistics):\n",
    "    accuracy = 0\n",
    "    p_y_i = [float((y_train == i).sum()) / float(len(y_train)) for i in range(10)]\n",
    "    for i, x in X_test.iterrows():\n",
    "        if predict_bernouilli(x, classes_statistics, p_y_i) == y_test[i]:\n",
    "            accuracy += 1\n",
    "    accuracy = accuracy / float(len(y_test))\n",
    "    return accuracy\n",
    "\n",
    "# Untouched images\n",
    "classes_statistics_bernouilli = statistics_bernouilli(X_train_preprocessed, y_train)\n",
    "bernouilli_accuracy_test = compute_accuracy_bernouilli(X_test_preprocessed, y_test, y_train, classes_statistics_bernouilli)\n",
    "bernouilli_accuracy_train = compute_accuracy_bernouilli(X_train_preprocessed, y_train, y_train, classes_statistics_bernouilli)\n",
    "print \"Untouched bernouilli accuracy test set \" + str(bernouilli_accuracy_test)\n",
    "print \"Untouched bernouilli accuracy train set \" + str(bernouilli_accuracy_train)\n",
    "\n",
    "# Resized images\n",
    "classes_statistics_bernouilli_resized = statistics_bernouilli(X_train_preprocessed_resized, y_train)\n",
    "bernouilli_accuracy_resized_test = compute_accuracy_bernouilli(X_test_preprocessed_resized, y_test, y_train, classes_statistics_bernouilli_resized)\n",
    "bernouilli_accuracy_resized_train = compute_accuracy_bernouilli(X_train_preprocessed_resized, y_train, y_train, classes_statistics_bernouilli_resized)\n",
    "print \"Resized bernouilli accuracy test set \" + str(bernouilli_accuracy_resized_test)\n",
    "print \"Resized bernouilli accuracy train set \" + str(bernouilli_accuracy_resized_train)"
   ]
  },
  {
   "cell_type": "markdown",
   "metadata": {},
   "source": []
  },
  {
   "cell_type": "code",
   "execution_count": null,
   "metadata": {},
   "outputs": [],
   "source": []
  },
  {
   "cell_type": "code",
   "execution_count": null,
   "metadata": {},
   "outputs": [],
   "source": []
  }
 ],
 "metadata": {
  "kernelspec": {
   "display_name": "Python 2",
   "language": "python",
   "name": "python2"
  },
  "language_info": {
   "codemirror_mode": {
    "name": "ipython",
    "version": 2
   },
   "file_extension": ".py",
   "mimetype": "text/x-python",
   "name": "python",
   "nbconvert_exporter": "python",
   "pygments_lexer": "ipython2",
   "version": "2.7.15"
  }
 },
 "nbformat": 4,
 "nbformat_minor": 2
}
